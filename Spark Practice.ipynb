{
 "cells": [
  {
   "cell_type": "code",
   "execution_count": 1,
   "id": "891ce04a",
   "metadata": {},
   "outputs": [
    {
     "data": {
      "text/html": [
       "Current session configs: <tt>{'conf': {'spark.pyspark.python': 'python3', 'spark.pyspark.virtualenv.enabled': 'true', 'spark.pyspark.virtualenv.type': 'native', 'spark.pyspark.virtualenv.bin.path': '/usr/bin/virtualenv'}, 'kind': 'pyspark'}</tt><br>"
      ],
      "text/plain": [
       "<IPython.core.display.HTML object>"
      ]
     },
     "metadata": {},
     "output_type": "display_data"
    },
    {
     "data": {
      "text/html": [
       "No active sessions."
      ],
      "text/plain": [
       "<IPython.core.display.HTML object>"
      ]
     },
     "metadata": {},
     "output_type": "display_data"
    }
   ],
   "source": [
    "%%info"
   ]
  },
  {
   "cell_type": "code",
   "execution_count": 2,
   "id": "6dbc144e",
   "metadata": {},
   "outputs": [
    {
     "data": {
      "application/vnd.jupyter.widget-view+json": {
       "model_id": "1a6c4c9e91c843dab0a9c13b1cd7754b",
       "version_major": 2,
       "version_minor": 0
      },
      "text/plain": [
       "VBox()"
      ]
     },
     "metadata": {},
     "output_type": "display_data"
    },
    {
     "name": "stdout",
     "output_type": "stream",
     "text": [
      "Starting Spark application\n"
     ]
    },
    {
     "data": {
      "text/html": [
       "<table>\n",
       "<tr><th>ID</th><th>YARN Application ID</th><th>Kind</th><th>State</th><th>Spark UI</th><th>Driver log</th><th>Current session?</th></tr><tr><td>0</td><td>application_1649372317807_0001</td><td>pyspark</td><td>idle</td><td><a target=\"_blank\" href=\"http://ip-172-31-92-56.ec2.internal:20888/proxy/application_1649372317807_0001/\">Link</a></td><td><a target=\"_blank\" href=\"http://ip-172-31-87-95.ec2.internal:8042/node/containerlogs/container_1649372317807_0001_01_000001/livy\">Link</a></td><td>✔</td></tr></table>"
      ],
      "text/plain": [
       "<IPython.core.display.HTML object>"
      ]
     },
     "metadata": {},
     "output_type": "display_data"
    },
    {
     "data": {
      "application/vnd.jupyter.widget-view+json": {
       "model_id": "",
       "version_major": 2,
       "version_minor": 0
      },
      "text/plain": [
       "FloatProgress(value=0.0, bar_style='info', description='Progress:', layout=Layout(height='25px', width='50%'),…"
      ]
     },
     "metadata": {},
     "output_type": "display_data"
    },
    {
     "name": "stdout",
     "output_type": "stream",
     "text": [
      "SparkSession available as 'spark'.\n"
     ]
    },
    {
     "data": {
      "application/vnd.jupyter.widget-view+json": {
       "model_id": "",
       "version_major": 2,
       "version_minor": 0
      },
      "text/plain": [
       "FloatProgress(value=0.0, bar_style='info', description='Progress:', layout=Layout(height='25px', width='50%'),…"
      ]
     },
     "metadata": {},
     "output_type": "display_data"
    },
    {
     "name": "stdout",
     "output_type": "stream",
     "text": [
      "Package                    Version  \n",
      "-------------------------- ---------\n",
      "beautifulsoup4             4.9.1    \n",
      "boto                       2.49.0   \n",
      "click                      7.1.2    \n",
      "jmespath                   0.10.0   \n",
      "joblib                     0.16.0   \n",
      "lxml                       4.5.2    \n",
      "mysqlclient                1.4.2    \n",
      "nltk                       3.5      \n",
      "nose                       1.3.4    \n",
      "numpy                      1.16.5   \n",
      "pip                        9.0.1    \n",
      "py-dateutil                2.2      \n",
      "python37-sagemaker-pyspark 1.4.0    \n",
      "pytz                       2020.1   \n",
      "PyYAML                     5.3.1    \n",
      "regex                      2020.7.14\n",
      "setuptools                 28.8.0   \n",
      "six                        1.13.0   \n",
      "soupsieve                  1.9.5    \n",
      "tqdm                       4.48.2   \n",
      "wheel                      0.29.0   \n",
      "windmill                   1.6"
     ]
    }
   ],
   "source": [
    "sc.list_packages()"
   ]
  },
  {
   "cell_type": "code",
   "execution_count": 5,
   "id": "e5c6b824",
   "metadata": {},
   "outputs": [
    {
     "data": {
      "application/vnd.jupyter.widget-view+json": {
       "model_id": "50f5e0942ad04609ae6b8e2e1ac83674",
       "version_major": 2,
       "version_minor": 0
      },
      "text/plain": [
       "VBox()"
      ]
     },
     "metadata": {},
     "output_type": "display_data"
    },
    {
     "data": {
      "application/vnd.jupyter.widget-view+json": {
       "model_id": "",
       "version_major": 2,
       "version_minor": 0
      },
      "text/plain": [
       "FloatProgress(value=0.0, bar_style='info', description='Progress:', layout=Layout(height='25px', width='50%'),…"
      ]
     },
     "metadata": {},
     "output_type": "display_data"
    },
    {
     "name": "stdout",
     "output_type": "stream",
     "text": [
      "Collecting pandas==1.0.3\n",
      "  Downloading https://files.pythonhosted.org/packages/4a/6a/94b219b8ea0f2d580169e85ed1edc0163743f55aaeca8a44c2e8fc1e344e/pandas-1.0.3-cp37-cp37m-manylinux1_x86_64.whl (10.0MB)\n",
      "Requirement already satisfied: pytz>=2017.2 in /usr/local/lib/python3.7/site-packages (from pandas==1.0.3)\n",
      "Requirement already satisfied: numpy>=1.13.3 in /usr/local/lib64/python3.7/site-packages (from pandas==1.0.3)\n",
      "Collecting python-dateutil>=2.6.1 (from pandas==1.0.3)\n",
      "  Downloading https://files.pythonhosted.org/packages/36/7a/87837f39d0296e723bb9b62bbb257d0355c7f6128853c78955f57342a56d/python_dateutil-2.8.2-py2.py3-none-any.whl (247kB)\n",
      "Requirement already satisfied: six>=1.5 in /usr/local/lib/python3.7/site-packages (from python-dateutil>=2.6.1->pandas==1.0.3)\n",
      "Installing collected packages: python-dateutil, pandas\n",
      "Successfully installed pandas-1.0.3 python-dateutil-2.8.2"
     ]
    }
   ],
   "source": [
    "sc.install_pypi_package(\"pandas==1.0.3\")"
   ]
  },
  {
   "cell_type": "code",
   "execution_count": 6,
   "id": "8cfde9b1",
   "metadata": {},
   "outputs": [
    {
     "data": {
      "application/vnd.jupyter.widget-view+json": {
       "model_id": "acd8cfc0caab4eeb8b3f834052b506d2",
       "version_major": 2,
       "version_minor": 0
      },
      "text/plain": [
       "VBox()"
      ]
     },
     "metadata": {},
     "output_type": "display_data"
    },
    {
     "data": {
      "application/vnd.jupyter.widget-view+json": {
       "model_id": "",
       "version_major": 2,
       "version_minor": 0
      },
      "text/plain": [
       "FloatProgress(value=0.0, bar_style='info', description='Progress:', layout=Layout(height='25px', width='50%'),…"
      ]
     },
     "metadata": {},
     "output_type": "display_data"
    },
    {
     "name": "stdout",
     "output_type": "stream",
     "text": [
      "Package                    Version  \n",
      "-------------------------- ---------\n",
      "beautifulsoup4             4.9.1    \n",
      "boto                       2.49.0   \n",
      "click                      7.1.2    \n",
      "jmespath                   0.10.0   \n",
      "joblib                     0.16.0   \n",
      "lxml                       4.5.2    \n",
      "mysqlclient                1.4.2    \n",
      "nltk                       3.5      \n",
      "nose                       1.3.4    \n",
      "numpy                      1.16.5   \n",
      "pandas                     1.0.3    \n",
      "pip                        9.0.1    \n",
      "py-dateutil                2.2      \n",
      "python-dateutil            2.8.2    \n",
      "python37-sagemaker-pyspark 1.4.0    \n",
      "pytz                       2020.1   \n",
      "PyYAML                     5.3.1    \n",
      "regex                      2020.7.14\n",
      "setuptools                 28.8.0   \n",
      "six                        1.13.0   \n",
      "soupsieve                  1.9.5    \n",
      "tqdm                       4.48.2   \n",
      "wheel                      0.29.0   \n",
      "windmill                   1.6"
     ]
    }
   ],
   "source": [
    "sc.list_packages()"
   ]
  },
  {
   "cell_type": "code",
   "execution_count": 7,
   "id": "6409d580",
   "metadata": {},
   "outputs": [
    {
     "data": {
      "application/vnd.jupyter.widget-view+json": {
       "model_id": "bef63322f3244a188fd64c416a923b4f",
       "version_major": 2,
       "version_minor": 0
      },
      "text/plain": [
       "VBox()"
      ]
     },
     "metadata": {},
     "output_type": "display_data"
    },
    {
     "data": {
      "application/vnd.jupyter.widget-view+json": {
       "model_id": "",
       "version_major": 2,
       "version_minor": 0
      },
      "text/plain": [
       "FloatProgress(value=0.0, bar_style='info', description='Progress:', layout=Layout(height='25px', width='50%'),…"
      ]
     },
     "metadata": {},
     "output_type": "display_data"
    },
    {
     "name": "stdout",
     "output_type": "stream",
     "text": [
      "Collecting matplotlib==3.2.1\n",
      "  Downloading https://files.pythonhosted.org/packages/b2/c2/71fcf957710f3ba1f09088b35776a799ba7dd95f7c2b195ec800933b276b/matplotlib-3.2.1-cp37-cp37m-manylinux1_x86_64.whl (12.4MB)\n",
      "Requirement already satisfied: python-dateutil>=2.1 in /mnt/tmp/1649372596590-0/lib/python3.7/site-packages (from matplotlib==3.2.1)\n",
      "Collecting pyparsing!=2.0.4,!=2.1.2,!=2.1.6,>=2.0.1 (from matplotlib==3.2.1)\n",
      "  Downloading https://files.pythonhosted.org/packages/80/c1/23fd82ad3121656b585351aba6c19761926bb0db2ebed9e4ff09a43a3fcc/pyparsing-3.0.7-py3-none-any.whl (98kB)\n",
      "Collecting cycler>=0.10 (from matplotlib==3.2.1)\n",
      "  Downloading https://files.pythonhosted.org/packages/5c/f9/695d6bedebd747e5eb0fe8fad57b72fdf25411273a39791cde838d5a8f51/cycler-0.11.0-py3-none-any.whl\n",
      "Requirement already satisfied: numpy>=1.11 in /usr/local/lib64/python3.7/site-packages (from matplotlib==3.2.1)\n",
      "Collecting kiwisolver>=1.0.1 (from matplotlib==3.2.1)\n",
      "  Downloading https://files.pythonhosted.org/packages/51/50/9a9a94afa26c50fc5d9127272737806990aa698c7a1c220b8e5075e70304/kiwisolver-1.4.2-cp37-cp37m-manylinux_2_5_x86_64.manylinux1_x86_64.whl (1.1MB)\n",
      "Requirement already satisfied: six>=1.5 in /usr/local/lib/python3.7/site-packages (from python-dateutil>=2.1->matplotlib==3.2.1)\n",
      "Collecting typing-extensions; python_version < \"3.8\" (from kiwisolver>=1.0.1->matplotlib==3.2.1)\n",
      "  Downloading https://files.pythonhosted.org/packages/45/6b/44f7f8f1e110027cf88956b59f2fad776cca7e1704396d043f89effd3a0e/typing_extensions-4.1.1-py3-none-any.whl\n",
      "Installing collected packages: pyparsing, cycler, typing-extensions, kiwisolver, matplotlib\n",
      "Successfully installed cycler-0.11.0 kiwisolver-1.4.2 matplotlib-3.2.1 pyparsing-3.0.7 typing-extensions-4.1.1"
     ]
    }
   ],
   "source": [
    "sc.install_pypi_package(\"matplotlib==3.2.1\")"
   ]
  },
  {
   "cell_type": "code",
   "execution_count": 9,
   "id": "a46e4953",
   "metadata": {},
   "outputs": [
    {
     "data": {
      "application/vnd.jupyter.widget-view+json": {
       "model_id": "bc5553e983cc4a7a94f4bd1f9f82326e",
       "version_major": 2,
       "version_minor": 0
      },
      "text/plain": [
       "VBox()"
      ]
     },
     "metadata": {},
     "output_type": "display_data"
    },
    {
     "data": {
      "application/vnd.jupyter.widget-view+json": {
       "model_id": "",
       "version_major": 2,
       "version_minor": 0
      },
      "text/plain": [
       "FloatProgress(value=0.0, bar_style='info', description='Progress:', layout=Layout(height='25px', width='50%'),…"
      ]
     },
     "metadata": {},
     "output_type": "display_data"
    }
   ],
   "source": [
    "df = spark.read.csv('s3://cis9760-lecture8/2013-08 - Citi Bike trip data.csv', header='true', inferSchema = True)"
   ]
  },
  {
   "cell_type": "code",
   "execution_count": 10,
   "id": "428d02e9",
   "metadata": {},
   "outputs": [
    {
     "data": {
      "application/vnd.jupyter.widget-view+json": {
       "model_id": "6a8b5e6397764b058578c539ec2ddb26",
       "version_major": 2,
       "version_minor": 0
      },
      "text/plain": [
       "VBox()"
      ]
     },
     "metadata": {},
     "output_type": "display_data"
    },
    {
     "data": {
      "application/vnd.jupyter.widget-view+json": {
       "model_id": "",
       "version_major": 2,
       "version_minor": 0
      },
      "text/plain": [
       "FloatProgress(value=0.0, bar_style='info', description='Progress:', layout=Layout(height='25px', width='50%'),…"
      ]
     },
     "metadata": {},
     "output_type": "display_data"
    },
    {
     "name": "stdout",
     "output_type": "stream",
     "text": [
      "+------------+-------------------+-------------------+----------------+--------------------+----------------------+-----------------------+--------------+--------------------+--------------------+---------------------+------+----------+----------+------+\n",
      "|tripduration|          starttime|           stoptime|start station id|  start station name|start station latitude|start station longitude|end station id|    end station name|end station latitude|end station longitude|bikeid|  usertype|birth year|gender|\n",
      "+------------+-------------------+-------------------+----------------+--------------------+----------------------+-----------------------+--------------+--------------------+--------------------+---------------------+------+----------+----------+------+\n",
      "|         664|2013-08-01 00:00:00|2013-08-01 00:11:04|             449|     W 52 St & 9 Ave|           40.76461837|           -73.98789473|           479|     9 Ave & W 45 St|         40.76019252|          -73.9912551| 20068|Subscriber|      1944|     1|\n",
      "|        2115|2013-08-01 00:00:01|2013-08-01 00:35:16|             254|     W 11 St & 6 Ave|           40.73532427|           -73.99800419|           195|Liberty St & Broa...|         40.70905623|         -74.01043382| 17095|Subscriber|      1974|     1|\n",
      "|         385|2013-08-01 00:00:03|2013-08-01 00:06:28|             460|  S 4 St & Wythe Ave|           40.71285887|           -73.96590294|          2002|Wythe Ave & Metro...|           40.716887|           -73.963198| 18197|  Customer|        \\N|     0|\n",
      "|         653|2013-08-01 00:00:10|2013-08-01 00:11:03|             398|Atlantic Ave & Fu...|           40.69165183|            -73.9999786|           398|Atlantic Ave & Fu...|         40.69165183|          -73.9999786| 17080|  Customer|        \\N|     0|\n",
      "|         954|2013-08-01 00:00:11|2013-08-01 00:16:05|             319| Park Pl & Church St|           40.71336124|           -74.00937622|           336|Sullivan St & Was...|         40.73047747|         -73.99906065| 17967|  Customer|        \\N|     0|\n",
      "|         145|2013-08-01 00:00:37|2013-08-01 00:03:02|             521|     8 Ave & W 31 St|           40.75044999|           -73.99481051|           512|     W 29 St & 9 Ave|          40.7500727|         -73.99839279| 16299|Subscriber|      1974|     1|\n",
      "|         331|2013-08-01 00:01:25|2013-08-01 00:06:56|            2000|Front St & Washin...|           40.70255088|           -73.98940236|           391| Clark St & Henry St|         40.69760127|         -73.99344559| 20593|Subscriber|      1982|     1|\n",
      "|         194|2013-08-01 00:01:26|2013-08-01 00:04:40|             313|Washington Ave & ...|           40.69610226|           -73.96751037|           244|Willoughby Ave & ...|         40.69196035|         -73.96536851| 19019|Subscriber|      1986|     1|\n",
      "|         598|2013-08-01 00:01:40|2013-08-01 00:11:38|             528|     2 Ave & E 31 St|           40.74290902|           -73.97706058|           498|  Broadway & W 32 St|         40.74854862|         -73.98808416| 17197|Subscriber|      1985|     1|\n",
      "|         360|2013-08-01 00:01:45|2013-08-01 00:07:45|             500|  Broadway & W 51 St|           40.76228826|           -73.98336183|           513|    W 56 St & 10 Ave|           40.768254|           -73.988639| 16717|Subscriber|      1991|     1|\n",
      "|        1855|2013-08-01 00:01:45|2013-08-01 00:32:40|             237|     E 11 St & 2 Ave|           40.73047309|           -73.98672378|           328|Watts St & Greenw...|         40.72405549|         -74.00965965| 18846|  Customer|        \\N|     0|\n",
      "|         897|2013-08-01 00:01:47|2013-08-01 00:16:44|             322|Clinton St & Till...|             40.696192|             -73.991218|           365|Fulton St & Grand...|         40.68223166|          -73.9614583| 16042|Subscriber|      1983|     2|\n",
      "|         398|2013-08-01 00:01:55|2013-08-01 00:08:33|             284|Greenwich Ave & 8...|         40.7390169121|         -74.0026376103|           512|     W 29 St & 9 Ave|          40.7500727|         -73.99839279| 18117|Subscriber|      1984|     1|\n",
      "|         339|2013-08-01 00:01:59|2013-08-01 00:07:38|             361|Allen St & Hester St|           40.71605866|           -73.99190759|           408|Market St & Cherr...|         40.71076228|         -73.99400398| 18949|Subscriber|      1977|     1|\n",
      "|         537|2013-08-01 00:02:00|2013-08-01 00:10:57|             284|Greenwich Ave & 8...|         40.7390169121|         -74.0026376103|           477|     W 41 St & 8 Ave|         40.75640548|          -73.9900262| 16423|Subscriber|      1985|     1|\n",
      "|         391|2013-08-01 00:02:09|2013-08-01 00:08:40|             465|  Broadway & W 41 St|           40.75513557|           -73.98658032|           513|    W 56 St & 10 Ave|           40.768254|           -73.988639| 16211|Subscriber|      1980|     1|\n",
      "|         254|2013-08-01 00:02:10|2013-08-01 00:06:24|             128|MacDougal St & Pr...|           40.72710258|           -74.00297088|           151|Cleveland Pl & Sp...|          40.7218158|         -73.99720307| 16007|Subscriber|      1983|     1|\n",
      "|         287|2013-08-01 00:02:11|2013-08-01 00:06:58|             519|   Pershing Square N|           40.75188406|           -73.97770164|           404|     9 Ave & W 14 St|          40.7405826|         -74.00550867| 20347|Subscriber|      1982|     1|\n",
      "|        1230|2013-08-01 00:02:23|2013-08-01 00:22:53|             482|     W 15 St & 7 Ave|           40.73935542|           -73.99931783|            79|Franklin St & W B...|         40.71911552|         -74.00666661| 19875|Subscriber|      1977|     1|\n",
      "|         667|2013-08-01 00:02:32|2013-08-01 00:13:39|             488|     W 39 St & 9 Ave|           40.75645824|           -73.99372222|           519|   Pershing Square N|         40.75188406|         -73.97770164| 19643|Subscriber|      1967|     1|\n",
      "+------------+-------------------+-------------------+----------------+--------------------+----------------------+-----------------------+--------------+--------------------+--------------------+---------------------+------+----------+----------+------+\n",
      "only showing top 20 rows"
     ]
    }
   ],
   "source": [
    "df.show()"
   ]
  },
  {
   "cell_type": "code",
   "execution_count": 11,
   "id": "0053096b",
   "metadata": {},
   "outputs": [
    {
     "data": {
      "application/vnd.jupyter.widget-view+json": {
       "model_id": "a58f7ec4455f4f9c9db39c1d28654457",
       "version_major": 2,
       "version_minor": 0
      },
      "text/plain": [
       "VBox()"
      ]
     },
     "metadata": {},
     "output_type": "display_data"
    },
    {
     "data": {
      "application/vnd.jupyter.widget-view+json": {
       "model_id": "",
       "version_major": 2,
       "version_minor": 0
      },
      "text/plain": [
       "FloatProgress(value=0.0, bar_style='info', description='Progress:', layout=Layout(height='25px', width='50%'),…"
      ]
     },
     "metadata": {},
     "output_type": "display_data"
    },
    {
     "name": "stdout",
     "output_type": "stream",
     "text": [
      "Total Columns: 15\n",
      "Total Rows: 1,001,958\n",
      "root\n",
      " |-- tripduration: integer (nullable = true)\n",
      " |-- starttime: timestamp (nullable = true)\n",
      " |-- stoptime: timestamp (nullable = true)\n",
      " |-- start station id: integer (nullable = true)\n",
      " |-- start station name: string (nullable = true)\n",
      " |-- start station latitude: double (nullable = true)\n",
      " |-- start station longitude: double (nullable = true)\n",
      " |-- end station id: integer (nullable = true)\n",
      " |-- end station name: string (nullable = true)\n",
      " |-- end station latitude: double (nullable = true)\n",
      " |-- end station longitude: double (nullable = true)\n",
      " |-- bikeid: integer (nullable = true)\n",
      " |-- usertype: string (nullable = true)\n",
      " |-- birth year: string (nullable = true)\n",
      " |-- gender: integer (nullable = true)"
     ]
    }
   ],
   "source": [
    "print(f'Total Columns: {len(df.dtypes)}')\n",
    "print(f'Total Rows: {df.count():,}')\n",
    "df.printSchema()\n"
   ]
  },
  {
   "cell_type": "code",
   "execution_count": 12,
   "id": "63a4edb2",
   "metadata": {},
   "outputs": [
    {
     "data": {
      "application/vnd.jupyter.widget-view+json": {
       "model_id": "acef82e91d7648f38cb5593be489cc69",
       "version_major": 2,
       "version_minor": 0
      },
      "text/plain": [
       "VBox()"
      ]
     },
     "metadata": {},
     "output_type": "display_data"
    },
    {
     "data": {
      "application/vnd.jupyter.widget-view+json": {
       "model_id": "",
       "version_major": 2,
       "version_minor": 0
      },
      "text/plain": [
       "FloatProgress(value=0.0, bar_style='info', description='Progress:', layout=Layout(height='25px', width='50%'),…"
      ]
     },
     "metadata": {},
     "output_type": "display_data"
    }
   ],
   "source": [
    "# createOrReplaceTempView is used when you want to store the table for a #particular spark session\n",
    "df.createOrReplaceTempView('Citibike')\n",
    "sqldf = spark.sql(\n",
    "'''\n",
    "SELECT `end station name`, COUNT ( `end station name`) as most_popular_stations FROM Citibike\n",
    "GROUP BY `end station name`\n",
    "ORDER BY most_popular_stations DESC\n",
    "LIMIT 5\n",
    "'''\n",
    ")\n"
   ]
  },
  {
   "cell_type": "code",
   "execution_count": 13,
   "id": "70cb76d0",
   "metadata": {},
   "outputs": [
    {
     "data": {
      "application/vnd.jupyter.widget-view+json": {
       "model_id": "21d863f2d14742e0821654fe73328783",
       "version_major": 2,
       "version_minor": 0
      },
      "text/plain": [
       "VBox()"
      ]
     },
     "metadata": {},
     "output_type": "display_data"
    },
    {
     "data": {
      "application/vnd.jupyter.widget-view+json": {
       "model_id": "",
       "version_major": 2,
       "version_minor": 0
      },
      "text/plain": [
       "FloatProgress(value=0.0, bar_style='info', description='Progress:', layout=Layout(height='25px', width='50%'),…"
      ]
     },
     "metadata": {},
     "output_type": "display_data"
    },
    {
     "data": {
      "image/png": "[encoded data removed]",
      "text/plain": [
       "<IPython.core.display.Image object>"
      ]
     },
     "metadata": {},
     "output_type": "display_data"
    }
   ],
   "source": [
    "import matplotlib.pyplot as plt\n",
    "sqldf.toPandas().plot.bar()\n",
    "%matplot plt\n"
   ]
  },
  {
   "cell_type": "code",
   "execution_count": null,
   "id": "d6dcf051",
   "metadata": {},
   "outputs": [],
   "source": []
  }
 ],
 "metadata": {
  "kernelspec": {
   "display_name": "PySpark",
   "language": "",
   "name": "pysparkkernel"
  },
  "language_info": {
   "codemirror_mode": {
    "name": "python",
    "version": 2
   },
   "mimetype": "text/x-python",
   "name": "pyspark",
   "pygments_lexer": "python2"
  }
 },
 "nbformat": 4,
 "nbformat_minor": 5
}
